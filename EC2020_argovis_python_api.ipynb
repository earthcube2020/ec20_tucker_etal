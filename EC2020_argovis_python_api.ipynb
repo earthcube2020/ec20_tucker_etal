{
 "cells": [
  {
   "cell_type": "markdown",
   "metadata": {},
   "source": [
    "# Python API to argovis.colorado.edu\n",
    "\n",
    "The about page of the web app [argovis.colorado.edu](http://argovis.colorado.edu) introduces the web app website and links to other useful information (e.g. FAQs, tutorials). The Argovis tutorials page provides more information about available APIs, along with sample code in different programming languages (e.g. Python, Matlab). Supplementary tutorial videos are found [here](https://www.youtube.com/watch?v=UOjSV4EIy00&list=PLJQE6R74BkyVV3PeTRdGh-W5llAY4XJ8v).\n",
    "\n",
    "Running this notebook requires some setup, installing several libraries and creating a separate python environment. A docker container has been created to run this noteobook in a separate environment. Further instructions are found at [this Github repository](https://github.com/tylertucker202/EC-Argovis-API-Demo).\n",
    "\n",
    "### A short summary of the background and of Argovis' goals:\n",
    "\n",
    "For the first time in history, the [Argo] (http://www.argo.ucsd.edu/index.html) network of profiling floats provides real-time data of temperature T, salinity S, and pressure P for the global ocean to a depth of 2000 dbar, with Deep Argo floats going down to 6000-dbar depth. Argo floats have been deployed since the early 2000s and reached the expected spatial distribution in 2007 (Roemmich et al. 2009). Nearly 4000 floats are currently operating in the global ocean and provide a profile every 10 days, that is, measurements from a vertical column of the ocean as a single float ascends to the surface. The four-dimensional (4D) space-time Argo data have many scientific and technological advantages, two of which are 1) unprecedented spatial and temporal resolution over the global ocean and 2) no seasonal bias (Roemmich et al. 2009). More than two million T/S/P profiles have been collected through the Argo Program.\n",
    "\n",
    "The web app [argovis.colorado.edu](http://argovis.colorado.edu) aims to improve visualization and data retrieval of the Argo dataset. This web app is a maintainable, scalable, and portable tool written with representational state transfer (REST) architecture. The RESTful design offers us the opportunity to feature cloud computing applications; chiefly, map comparison from existing gridded Argo products, as well as parameter estimation such as basin mean T/S/P.\n",
    "\n",
    "Currently, Argovis is expanding to co-locate Argo data with weather events, satellite, and other Earth science datasets.\n",
    "\n",
    "### Citation for the Argovis web app and the Argovis database: \n",
    "\n",
    "Tucker, T., D. Giglio, M. Scanderbeg, and S.S.P. Shen, 0: Argovis: A Web Application for Fast Delivery, Visualization, and Analysis of Argo Data. J. Atmos. Oceanic Technol., 37, 401–416, [https://doi.org/10.1175/JTECH-D-19-0041.1] (https://doi.org/10.1175/JTECH-D-19-0041.1)\n",
    "\n",
    "If using data from Argovis in publications, please cite both the above Argovis web application paper and the original Argo data source reference in your paper:\n",
    "\n",
    "\" These data were collected and made freely available by the International Argo Program and the national programs that contribute to it. (http://www.argo.ucsd.edu, http://argo.jcommops.org). The Argo Program is part of the Global Ocean Observing System. \" \n",
    "Argo (2000). Argo float data and metadata from the Global Data Assembly Centre (Argo GDAC). SEANOE. http://doi.org/10.17882/42182\n",
    "\n",
    "### Acknowledgements:\n",
    "Argovis is hosted on a server of the Department of Atmospheric and Oceanic Sciences (ATOC) at the University of Colorado Boulder. Currently, Argovis is funded by the NSF Earthcube program (Award [#1928305](https://nsf.gov/awardsearch/showAward?AWD_ID=1928305&HistoricalAwards=false)).\n",
    "\n",
    "In the past, Argovis has been funded by (starting with the most recent):\n",
    "\n",
    "- Giglio's research funds provided by University of Colorado Boulder\n",
    "- the SOCCOM Project through grant number NSF PLR-1425989\n",
    "- the US Argo Program through NOAA Grant NA15OAR4320071 (CIMEC)\n",
    "- the National Oceanic and Atmospheric Administration – Cooperative Science Center for Earth System Sciences and - Remote Sensing Technologies (NOAA-CREST) under the Cooperative Agreement Grant \\#: NA16SEC4810008\n",
    "- the U.S. NOAA Cooperative Institute for Climate Science (Award No. 13342-Z7812001)\n",
    "- The City College of New York, NOAA-CREST program and NOAA Office of Education, Educational Partnership Program which provided full fellowship support to Tyler Tucker at San Diego State University \n",
    "\n",
    "The initial development of Argovis referenced the codes and ideas of the 4-Dimensional Visual Delivery (4DVD) technology developed at the Climate Informatics Lab, San Diego State University. The computer code for 4DVD is at https://github.com/dafrenchyman/4dvd and is available for download under the GNU General Public License open source license. All applicable restrictions, disclaimers of warranties, and limitations of liability in the GNU General Public License also apply to uses of 4DVD on this website.\n",
    "\n",
    "### Description of this notebook:\n",
    "The following code is a way to get ocean data stored on Argovis. HTTP 'get' requests access the web app's database; however, without a browser. Essentially, this interface is used to query the same database that builds the website.\n",
    "\n",
    "Citation:\n",
    "\n",
    "Tucker, T., D. Giglio, M. Scanderbeg, and S.S.P. Shen, 0: Argovis: A Web Application for Fast Delivery, Visualization, and Analysis of Argo Data. J. Atmos. Oceanic Technol., 37, 401–416, [https://doi.org/10.1175/JTECH-D-19-0041.1] (https://doi.org/10.1175/JTECH-D-19-0041.1)\n",
    "\n",
    "This notebook will guide a python user to:\n",
    "\n",
    "[1. Query a specific profile using its id, designated by its platform (WMO) number with its cycle number, connected by an underscore. For example '3900737_9'](#section_one)\n",
    "\n",
    "[2. Query a specified platform by number. Example '3900737'.](#section_two)\n",
    "\n",
    "[3.1 Query profiles within a given shape, date range, and pressure range.](#section_three)\n",
    "\n",
    "[3.2 Query profiles position, date, and cycle number within month and year (globally).](#section_three_two)\n",
    "\n",
    "[4. Plot query results](#section_four)\n",
    "\n",
    "[5. Create time series for a selected region and set of dates.](#section_five)\n",
    "\n",
    "[6. Query database using a gridded scheme](#section_six)\n",
    "\n",
    "[7. Overlay Atmospheric Rivers on the map](#section_seven)\n",
    "\n",
    "Firstly, the following libraries are called and styles are set."
   ]
  },
  {
   "cell_type": "code",
   "execution_count": 1,
   "metadata": {},
   "outputs": [],
   "source": [
    "import requests\n",
    "import numpy as np\n",
    "import pandas as pd\n",
    "\n",
    "import cmocean\n",
    "import matplotlib.pylab as plt\n",
    "from scipy.interpolate import griddata\n",
    "from scipy import interpolate\n",
    "from datetime import datetime\n",
    "import pdb\n",
    "import os\n",
    "import csv\n",
    "\n",
    "from datetime import datetime, timedelta\n",
    "import calendar\n",
    "\n",
    "import matplotlib\n",
    "matplotlib.font_manager._rebuild()\n",
    "\n",
    "#used for map projections\n",
    "from cartopy import config\n",
    "import cartopy.crs as ccrs\n",
    "import matplotlib.patches as mpatches\n",
    "\n",
    "%matplotlib inline\n",
    "\n",
    "#sets plot styles\n",
    "import seaborn as sns\n",
    "from matplotlib import rc\n",
    "from matplotlib import rcParams\n",
    "import matplotlib.ticker as mtick\n",
    "rc('text', usetex=False)\n",
    "rcStyle = {\"font.size\": 10,\n",
    "           \"axes.titlesize\": 20,\n",
    "           \"axes.labelsize\": 20,\n",
    "           'xtick.labelsize': 16,\n",
    "           'ytick.labelsize': 16}\n",
    "sns.set_context(\"paper\", rc=rcStyle)\n",
    "sns.set_style(\"whitegrid\", {'axes.grid' : False})\n",
    "myColors = [\"windows blue\", \"amber\", \"dusty rose\", \"prussian blue\", \"faded green\", \"dusty purple\", \"gold\", \"dark pink\", \"green\", \"red\", \"brown\"]\n",
    "colorsBW = [\"black\", \"grey\"]\n",
    "sns.set_palette(sns.xkcd_palette(myColors))\n",
    "\n",
    "curDir = os.getcwd()\n",
    "dataDir = os.path.join(curDir, 'data')\n",
    "\n",
    "if not os.path.exists(dataDir):\n",
    "    os.mkdir(dataDir)\n",
    "    \n",
    "import warnings\n",
    "warnings.filterwarnings('ignore')"
   ]
  },
  {
   "cell_type": "markdown",
   "metadata": {},
   "source": [
    "<a name=\"section_one\"/> </a>\n",
    "# 1. Get A Profile\n",
    "\n",
    "The requests library handles the HTTP getting and receiving. If the message is received and the profile exists Argovis will return a JSON object. Python casts a JSON object as a native dictionary type. \n",
    "\n",
    "in this example, we are going to access the profile from float 3900737 cycle 279. The function below builds the following URL, requests JSON data, and returns it in python.\n",
    "\n",
    "[https://argovis.colorado.edu/catalog/profiles/3900737_279](https://argovis.colorado.edu/catalog/profiles/3900737_279)"
   ]
  },
  {
   "cell_type": "code",
   "execution_count": 2,
   "metadata": {},
   "outputs": [],
   "source": [
    "def get_profile(profile_number):\n",
    "    url = 'https://argovis.colorado.edu/catalog/profiles/{}'.format(profile_number)\n",
    "    resp = requests.get(url)\n",
    "    # Consider any status other than 2xx an error\n",
    "    if not resp.status_code // 100 == 2:\n",
    "        return \"Error: Unexpected response {}\".format(resp)\n",
    "    profile = resp.json()\n",
    "    return profile"
   ]
  },
  {
   "cell_type": "code",
   "execution_count": 3,
   "metadata": {},
   "outputs": [],
   "source": [
    "profileDict = get_profile('3900737_279')"
   ]
  },
  {
   "cell_type": "markdown",
   "metadata": {},
   "source": [
    "`profileDict` is a set of key:value pairs enclosed by curly brackets. These are profile objects stored in the Argovis Database, imported in a Python environment. We expose the keys with the command `profileDict.keys()`"
   ]
  },
  {
   "cell_type": "code",
   "execution_count": 4,
   "metadata": {},
   "outputs": [
    {
     "data": {
      "text/plain": [
       "dict_keys(['bgcMeasKeys', 'station_parameters', 'station_parameters_in_nc', 'PARAMETER_DATA_MODE', '_id', 'POSITIONING_SYSTEM', 'DATA_CENTRE', 'PI_NAME', 'WMO_INST_TYPE', 'VERTICAL_SAMPLING_SCHEME', 'DATA_MODE', 'PLATFORM_TYPE', 'measurements', 'pres_max_for_TEMP', 'pres_min_for_TEMP', 'pres_max_for_PSAL', 'pres_min_for_PSAL', 'max_pres', 'date', 'date_added', 'date_qc', 'lat', 'lon', 'geoLocation', 'position_qc', 'cycle_number', 'dac', 'platform_number', 'nc_url', 'DIRECTION', 'BASIN', 'bgcMeas', 'url', 'core_data_mode', 'jcommopsPlatform', 'euroargoPlatform', 'formatted_station_parameters', 'roundLat', 'roundLon', 'strLat', 'strLon', 'date_formatted', 'id'])"
      ]
     },
     "execution_count": 4,
     "metadata": {},
     "output_type": "execute_result"
    }
   ],
   "source": [
    "profileDict.keys()"
   ]
  },
  {
   "cell_type": "markdown",
   "metadata": {},
   "source": [
    "Core measuremenent data is stored in the field 'measurements'. Its a list of dictionary objects, indexed by pressure. Each row is a pressure level and each key is a column. We can convert this tabular like data into a pandas dataframe. Essentially it is a spreadsheet table."
   ]
  },
  {
   "cell_type": "code",
   "execution_count": 5,
   "metadata": {},
   "outputs": [
    {
     "data": {
      "text/html": [
       "<div>\n",
       "<style scoped>\n",
       "    .dataframe tbody tr th:only-of-type {\n",
       "        vertical-align: middle;\n",
       "    }\n",
       "\n",
       "    .dataframe tbody tr th {\n",
       "        vertical-align: top;\n",
       "    }\n",
       "\n",
       "    .dataframe thead th {\n",
       "        text-align: right;\n",
       "    }\n",
       "</style>\n",
       "<table border=\"1\" class=\"dataframe\">\n",
       "  <thead>\n",
       "    <tr style=\"text-align: right;\">\n",
       "      <th></th>\n",
       "      <th>temp</th>\n",
       "      <th>psal</th>\n",
       "      <th>pres</th>\n",
       "      <th>cycle_number</th>\n",
       "      <th>profile_id</th>\n",
       "    </tr>\n",
       "  </thead>\n",
       "  <tbody>\n",
       "    <tr>\n",
       "      <th>0</th>\n",
       "      <td>27.165</td>\n",
       "      <td>35.421</td>\n",
       "      <td>4.4</td>\n",
       "      <td>279</td>\n",
       "      <td>3900737_279</td>\n",
       "    </tr>\n",
       "    <tr>\n",
       "      <th>1</th>\n",
       "      <td>27.063</td>\n",
       "      <td>35.421</td>\n",
       "      <td>10.0</td>\n",
       "      <td>279</td>\n",
       "      <td>3900737_279</td>\n",
       "    </tr>\n",
       "    <tr>\n",
       "      <th>2</th>\n",
       "      <td>27.055</td>\n",
       "      <td>35.422</td>\n",
       "      <td>16.9</td>\n",
       "      <td>279</td>\n",
       "      <td>3900737_279</td>\n",
       "    </tr>\n",
       "    <tr>\n",
       "      <th>3</th>\n",
       "      <td>27.048</td>\n",
       "      <td>35.422</td>\n",
       "      <td>23.7</td>\n",
       "      <td>279</td>\n",
       "      <td>3900737_279</td>\n",
       "    </tr>\n",
       "    <tr>\n",
       "      <th>4</th>\n",
       "      <td>27.046</td>\n",
       "      <td>35.421</td>\n",
       "      <td>30.9</td>\n",
       "      <td>279</td>\n",
       "      <td>3900737_279</td>\n",
       "    </tr>\n",
       "  </tbody>\n",
       "</table>\n",
       "</div>"
      ],
      "text/plain": [
       "     temp    psal  pres  cycle_number   profile_id\n",
       "0  27.165  35.421   4.4           279  3900737_279\n",
       "1  27.063  35.421  10.0           279  3900737_279\n",
       "2  27.055  35.422  16.9           279  3900737_279\n",
       "3  27.048  35.422  23.7           279  3900737_279\n",
       "4  27.046  35.421  30.9           279  3900737_279"
      ]
     },
     "execution_count": 5,
     "metadata": {},
     "output_type": "execute_result"
    }
   ],
   "source": [
    "profileDict = get_profile('3900737_279')\n",
    "profileDf = pd.DataFrame(profileDict['measurements'])\n",
    "profileDf['cycle_number'] = profileDict['cycle_number']\n",
    "profileDf['profile_id'] = profileDict['_id']\n",
    "profileDf.head()"
   ]
  },
  {
   "cell_type": "markdown",
   "metadata": {},
   "source": [
    "With the data in this form, we can plot it with our favorite library, matplotlib. Try different styles."
   ]
  },
  {
   "cell_type": "code",
   "execution_count": 6,
   "metadata": {},
   "outputs": [
    {
     "data": {
      "image/png": "[encoded data removed]",
      "text/plain": [
       "<Figure size 432x288 with 1 Axes>"
      ]
     },
     "metadata": {},
     "output_type": "display_data"
    }
   ],
   "source": [
    "with plt.xkcd():\n",
    "    fig = plt.figure()\n",
    "    ax = fig.add_axes((0.1, 0.2, 0.8, 0.7))\n",
    "    ax.spines['right'].set_color('none')\n",
    "    ax.spines['top'].set_color('none')\n",
    "    ax.set_xticks([])\n",
    "    ax.set_yticks([])\n",
    "    ax.invert_yaxis()\n",
    "\n",
    "    dataX = profileDf.pres.values\n",
    "    dataY = profileDf.temp.values\n",
    "    ax.plot(dataY, dataX)\n",
    "\n",
    "    ax.set_title('An Argo Profile \\n in the style of XKCD')\n",
    "    ax.set_xlabel('Temperature [C]')\n",
    "    ax.set_ylabel('Pressure [dbar]')\n",
    "    \n",
    "    ax.annotate(\n",
    "    'We can make annotations!',\n",
    "    xy=(dataY[12], dataX[12]+10), \\\n",
    "        arrowprops=dict( color='k', arrowstyle='->'), xytext=(15, 1100))"
   ]
  },
  {
   "cell_type": "markdown",
   "metadata": {},
   "source": [
    "<a name=\"section_two\"/> </a>\n",
    "# 2. Get A Platform\n",
    "\n",
    "A platform consists of a list of profiles. An additional function 'parse_into_df' appends each profile to one data frame.\n",
    "\n",
    "In this example we are constructing the url:\n",
    "[https://argovis.colorado.edu/catalog/platforms/3900737](https://argovis.colorado.edu/catalog/platforms/3900737)"
   ]
  },
  {
   "cell_type": "code",
   "execution_count": 7,
   "metadata": {},
   "outputs": [],
   "source": [
    "def get_platform_profiles(platform_number):\n",
    "    url = 'https://argovis.colorado.edu/catalog/platforms/{}'.format(platform_number)\n",
    "    resp = requests.get(url)\n",
    "    # Consider any status other than 2xx an error\n",
    "    if not resp.status_code // 100 == 2:\n",
    "        return \"Error: Unexpected response {}\".format(resp)\n",
    "    platformProfiles = resp.json()\n",
    "    return platformProfiles\n",
    "\n",
    "def parse_into_df(profiles):\n",
    "    meas_keys = profiles[0]['measurements'][0].keys()\n",
    "    df = pd.DataFrame(columns=meas_keys)\n",
    "    for profile in profiles:\n",
    "        profileDf = pd.DataFrame(profile['measurements'])\n",
    "        profileDf['cycle_number'] = profile['cycle_number']\n",
    "        profileDf['profile_id'] = profile['_id']\n",
    "        profileDf['lat'] = profile['lat']\n",
    "        profileDf['lon'] = profile['lon']\n",
    "        profileDf['date'] = profile['date']\n",
    "        df = pd.concat([df, profileDf], sort=False)\n",
    "    return df"
   ]
  },
  {
   "cell_type": "code",
   "execution_count": 8,
   "metadata": {},
   "outputs": [
    {
     "name": "stdout",
     "output_type": "stream",
     "text": [
      "number of measurements 25609\n"
     ]
    }
   ],
   "source": [
    "platformProfiles = get_platform_profiles('3900737')#('5904684')\n",
    "platformDf = parse_into_df(platformProfiles)\n",
    "print('number of measurements {}'.format(platformDf.shape[0]))"
   ]
  },
  {
   "cell_type": "code",
   "execution_count": 9,
   "metadata": {},
   "outputs": [
    {
     "data": {
      "text/html": [
       "<div>\n",
       "<style scoped>\n",
       "    .dataframe tbody tr th:only-of-type {\n",
       "        vertical-align: middle;\n",
       "    }\n",
       "\n",
       "    .dataframe tbody tr th {\n",
       "        vertical-align: top;\n",
       "    }\n",
       "\n",
       "    .dataframe thead th {\n",
       "        text-align: right;\n",
       "    }\n",
       "</style>\n",
       "<table border=\"1\" class=\"dataframe\">\n",
       "  <thead>\n",
       "    <tr style=\"text-align: right;\">\n",
       "      <th></th>\n",
       "      <th>temp</th>\n",
       "      <th>psal</th>\n",
       "      <th>pres</th>\n",
       "      <th>cycle_number</th>\n",
       "      <th>profile_id</th>\n",
       "      <th>lat</th>\n",
       "      <th>lon</th>\n",
       "      <th>date</th>\n",
       "    </tr>\n",
       "  </thead>\n",
       "  <tbody>\n",
       "    <tr>\n",
       "      <th>0</th>\n",
       "      <td>26.349</td>\n",
       "      <td>33.770</td>\n",
       "      <td>4.4</td>\n",
       "      <td>1.0</td>\n",
       "      <td>3900737_1</td>\n",
       "      <td>0.931</td>\n",
       "      <td>-84.083</td>\n",
       "      <td>2009-06-15T11:13:53.000Z</td>\n",
       "    </tr>\n",
       "    <tr>\n",
       "      <th>1</th>\n",
       "      <td>26.356</td>\n",
       "      <td>33.781</td>\n",
       "      <td>10.5</td>\n",
       "      <td>1.0</td>\n",
       "      <td>3900737_1</td>\n",
       "      <td>0.931</td>\n",
       "      <td>-84.083</td>\n",
       "      <td>2009-06-15T11:13:53.000Z</td>\n",
       "    </tr>\n",
       "    <tr>\n",
       "      <th>2</th>\n",
       "      <td>26.294</td>\n",
       "      <td>33.894</td>\n",
       "      <td>17.7</td>\n",
       "      <td>1.0</td>\n",
       "      <td>3900737_1</td>\n",
       "      <td>0.931</td>\n",
       "      <td>-84.083</td>\n",
       "      <td>2009-06-15T11:13:53.000Z</td>\n",
       "    </tr>\n",
       "    <tr>\n",
       "      <th>3</th>\n",
       "      <td>26.014</td>\n",
       "      <td>34.198</td>\n",
       "      <td>24.6</td>\n",
       "      <td>1.0</td>\n",
       "      <td>3900737_1</td>\n",
       "      <td>0.931</td>\n",
       "      <td>-84.083</td>\n",
       "      <td>2009-06-15T11:13:53.000Z</td>\n",
       "    </tr>\n",
       "    <tr>\n",
       "      <th>4</th>\n",
       "      <td>24.573</td>\n",
       "      <td>34.716</td>\n",
       "      <td>31.6</td>\n",
       "      <td>1.0</td>\n",
       "      <td>3900737_1</td>\n",
       "      <td>0.931</td>\n",
       "      <td>-84.083</td>\n",
       "      <td>2009-06-15T11:13:53.000Z</td>\n",
       "    </tr>\n",
       "  </tbody>\n",
       "</table>\n",
       "</div>"
      ],
      "text/plain": [
       "     temp    psal  pres  cycle_number profile_id    lat     lon  \\\n",
       "0  26.349  33.770   4.4           1.0  3900737_1  0.931 -84.083   \n",
       "1  26.356  33.781  10.5           1.0  3900737_1  0.931 -84.083   \n",
       "2  26.294  33.894  17.7           1.0  3900737_1  0.931 -84.083   \n",
       "3  26.014  34.198  24.6           1.0  3900737_1  0.931 -84.083   \n",
       "4  24.573  34.716  31.6           1.0  3900737_1  0.931 -84.083   \n",
       "\n",
       "                       date  \n",
       "0  2009-06-15T11:13:53.000Z  \n",
       "1  2009-06-15T11:13:53.000Z  \n",
       "2  2009-06-15T11:13:53.000Z  \n",
       "3  2009-06-15T11:13:53.000Z  \n",
       "4  2009-06-15T11:13:53.000Z  "
      ]
     },
     "execution_count": 9,
     "metadata": {},
     "output_type": "execute_result"
    }
   ],
   "source": [
    "platformDf.head()"
   ]
  },
  {
   "cell_type": "markdown",
   "metadata": {},
   "source": [
    "By the way, Pandas dataframes can handle large arrays efficiently, thanks to the underlying numpy library. Pandas allow for easy and quick computations, such as taking the mean of the measurements."
   ]
  },
  {
   "cell_type": "code",
   "execution_count": 10,
   "metadata": {},
   "outputs": [
    {
     "data": {
      "text/plain": [
       "pres    539.346652\n",
       "psal     34.905583\n",
       "temp     12.602862\n",
       "dtype: float64"
      ]
     },
     "execution_count": 10,
     "metadata": {},
     "output_type": "execute_result"
    }
   ],
   "source": [
    "platformDf[['pres', 'psal', 'temp']].mean(0)"
   ]
  },
  {
   "cell_type": "markdown",
   "metadata": {},
   "source": [
    "Next, we shall plot these profiles' temperature at a level of interest. The function below calculates a linear interpolation of temperature and salinity.         # Note that some of the profiles in Argovis may not have salinity (either because there is no salinity value in the original Argo file or the quality is bad)\n",
    "\n",
    "A simple script then plots a scatter chart with the color set to temperature. Let's also use the [Cartopy](https://scitools.org.uk/cartopy/docs/latest/) library for base layers and projections."
   ]
  },
  {
   "cell_type": "code",
   "execution_count": 11,
   "metadata": {},
   "outputs": [],
   "source": [
    "def parse_into_df_plev(profiles, plev):\n",
    "    plevProfileList = []\n",
    "    for profile in profiles:\n",
    "        profileDf_bfr = pd.DataFrame(profile['measurements'])\n",
    "        plevProfile = profile\n",
    "        fT = interpolate.interp1d(profileDf_bfr['pres'], profileDf_bfr['temp'], bounds_error=False)\n",
    "        plevProfile['temp'] = fT(plev)\n",
    "        # some of the profiles in Argovis may not have salinity \n",
    "        # (either because there is no salinity value in the original Argo file or the quality is bad)\n",
    "        try:\n",
    "            fS = interpolate.interp1d(profileDf_bfr['pres'], profileDf_bfr['psal'], bounds_error=False)\n",
    "            plevProfile['psal'] = fS(plev)\n",
    "        except:\n",
    "            plevProfile['psal'] = np.nan #  No salinity found in profile\n",
    "        plevProfile['pres'] = plev\n",
    "        plevProfileList.append(plevProfile)\n",
    "    df = pd.DataFrame(plevProfileList)\n",
    "    df = df.sort_values(by=['cycle_number'])\n",
    "    df = df[['cycle_number','_id','date','lon','lat','pres','temp','psal']]\n",
    "    return df"
   ]
  },
  {
   "cell_type": "code",
   "execution_count": 12,
   "metadata": {},
   "outputs": [],
   "source": [
    "def plot_pmesh(df, measName, figsize=(16,24), shrinkcbar=.1, \\\n",
    "               delta_lon=10, delta_lat=10, map_proj=ccrs.PlateCarree(), \\\n",
    "               xlims=None):\n",
    "    fig = plt.figure(figsize=figsize)\n",
    "    x = df['lon'].values\n",
    "    y = df['lat'].values\n",
    "    points = map_proj.transform_points(ccrs.Geodetic(), x, y)\n",
    "    x = points[:, 0]\n",
    "    y = points[:, 1]\n",
    "\n",
    "    z = df[measName].values\n",
    "    map_proj._threshold /= 100.  # the default values is bad, users need to set them manually\n",
    "    ax = plt.axes(projection=map_proj, xlabel='long', ylabel='lats')\n",
    "    plt.title(measName + ' on a map')\n",
    "    \n",
    "    sct = plt.scatter(x, y, c=z, s=15, cmap=cmocean.cm.dense,zorder=3)\n",
    "    cbar = fig.colorbar(sct, cmap=cmocean.cm.dense, shrink=shrinkcbar)\n",
    "     \n",
    "    if not xlims:\n",
    "        xlims = [df['lon'].max() + delta_lon, df['lon'].min()- delta_lon]\n",
    "\n",
    "    ax.set_xlim(min(xlims), max(xlims))\n",
    "    ax.set_ylim(min(df['lat']) - delta_lat, max(df['lat']) + delta_lat)\n",
    "    \n",
    "    ax.coastlines(zorder=1)\n",
    "    ax.stock_img()\n",
    "    ax.gridlines()\n",
    "    return fig"
   ]
  },
  {
   "cell_type": "code",
   "execution_count": 13,
   "metadata": {},
   "outputs": [
    {
     "data": {
      "text/html": [
       "<div>\n",
       "<style scoped>\n",
       "    .dataframe tbody tr th:only-of-type {\n",
       "        vertical-align: middle;\n",
       "    }\n",
       "\n",
       "    .dataframe tbody tr th {\n",
       "        vertical-align: top;\n",
       "    }\n",
       "\n",
       "    .dataframe thead th {\n",
       "        text-align: right;\n",
       "    }\n",
       "</style>\n",
       "<table border=\"1\" class=\"dataframe\">\n",
       "  <thead>\n",
       "    <tr style=\"text-align: right;\">\n",
       "      <th></th>\n",
       "      <th>cycle_number</th>\n",
       "      <th>_id</th>\n",
       "      <th>date</th>\n",
       "      <th>lon</th>\n",
       "      <th>lat</th>\n",
       "      <th>pres</th>\n",
       "      <th>temp</th>\n",
       "      <th>psal</th>\n",
       "    </tr>\n",
       "  </thead>\n",
       "  <tbody>\n",
       "    <tr>\n",
       "      <th>0</th>\n",
       "      <td>1</td>\n",
       "      <td>3900737_1</td>\n",
       "      <td>2009-06-15T11:13:53.000Z</td>\n",
       "      <td>-84.083000</td>\n",
       "      <td>0.931</td>\n",
       "      <td>20</td>\n",
       "      <td>26.200666666666667</td>\n",
       "      <td>33.995333333333335</td>\n",
       "    </tr>\n",
       "    <tr>\n",
       "      <th>111</th>\n",
       "      <td>2</td>\n",
       "      <td>3900737_2</td>\n",
       "      <td>2009-06-26T07:03:40.999Z</td>\n",
       "      <td>-84.698997</td>\n",
       "      <td>1.070</td>\n",
       "      <td>20</td>\n",
       "      <td>26.89818918918919</td>\n",
       "      <td>33.319783783783784</td>\n",
       "    </tr>\n",
       "    <tr>\n",
       "      <th>220</th>\n",
       "      <td>3</td>\n",
       "      <td>3900737_3</td>\n",
       "      <td>2009-07-06T23:34:37.001Z</td>\n",
       "      <td>-85.484001</td>\n",
       "      <td>0.789</td>\n",
       "      <td>20</td>\n",
       "      <td>26.35662162162162</td>\n",
       "      <td>33.82286486486487</td>\n",
       "    </tr>\n",
       "    <tr>\n",
       "      <th>288</th>\n",
       "      <td>4</td>\n",
       "      <td>3900737_4</td>\n",
       "      <td>2009-07-17T23:01:22.998Z</td>\n",
       "      <td>-86.365997</td>\n",
       "      <td>0.333</td>\n",
       "      <td>20</td>\n",
       "      <td>25.8478</td>\n",
       "      <td>33.88562666666667</td>\n",
       "    </tr>\n",
       "    <tr>\n",
       "      <th>299</th>\n",
       "      <td>5</td>\n",
       "      <td>3900737_5</td>\n",
       "      <td>2009-07-28T15:05:59.000Z</td>\n",
       "      <td>-87.029999</td>\n",
       "      <td>0.245</td>\n",
       "      <td>20</td>\n",
       "      <td>26.111179104477614</td>\n",
       "      <td>33.86576119402985</td>\n",
       "    </tr>\n",
       "  </tbody>\n",
       "</table>\n",
       "</div>"
      ],
      "text/plain": [
       "     cycle_number        _id                      date        lon    lat  \\\n",
       "0               1  3900737_1  2009-06-15T11:13:53.000Z -84.083000  0.931   \n",
       "111             2  3900737_2  2009-06-26T07:03:40.999Z -84.698997  1.070   \n",
       "220             3  3900737_3  2009-07-06T23:34:37.001Z -85.484001  0.789   \n",
       "288             4  3900737_4  2009-07-17T23:01:22.998Z -86.365997  0.333   \n",
       "299             5  3900737_5  2009-07-28T15:05:59.000Z -87.029999  0.245   \n",
       "\n",
       "     pres                temp                psal  \n",
       "0      20  26.200666666666667  33.995333333333335  \n",
       "111    20   26.89818918918919  33.319783783783784  \n",
       "220    20   26.35662162162162   33.82286486486487  \n",
       "288    20             25.8478   33.88562666666667  \n",
       "299    20  26.111179104477614   33.86576119402985  "
      ]
     },
     "execution_count": 13,
     "metadata": {},
     "output_type": "execute_result"
    }
   ],
   "source": [
    "plevIntp = 20\n",
    "platformDf_plev = parse_into_df_plev(platformProfiles, plevIntp)\n",
    "platformDf_plev.head()"
   ]
  },
  {
   "cell_type": "code",
   "execution_count": 14,
   "metadata": {},
   "outputs": [
    {
     "data": {
      "image/png": "[encoded data removed]",
      "text/plain": [
       "<Figure size 1152x1728 with 2 Axes>"
      ]
     },
     "metadata": {
      "needs_background": "light"
     },
     "output_type": "display_data"
    }
   ],
   "source": [
    "pmeshfig = plot_pmesh(platformDf_plev,'temp')\n",
    "plt.show()"
   ]
  },
  {
   "cell_type": "markdown",
   "metadata": {},
   "source": [
    "<a name=\"section_three\"/> </a>\n",
    "# 3.1 Get A Space-Time Selection\n",
    "\n",
    "This query retrieves profiles within a given shape, date range, and optional depth range.\n",
    "\n",
    "[This region's](https://argovis.colorado.edu/selection/profiles/page?startDate=2017-9-15&endDate=2017-10-31&shape=[[[-18.6,31.7],[-18.6,37.7],[-5.9,37.7],[-5.9,31.7],[-18.6,31.7]]]&presRange=[0,30]) data will be queried and plotted in Python.\n",
    "\n",
    "* start date: string formatted as 'YYYY-MM-DD'\n",
    "* end date: string formatted as 'YYYY-MM-DD'\n",
    "* pressure range (optional): string formatted as '[lowerPressure,upperPressure]'. No Spaces!\n",
    "* shape: a list of lists containing [lng, lat] coordinates. \n",
    "\n",
    "It is worth mentioning some information regarding how profiles are stored in Argovis. First, know that latitude lines are drawn on a map typically appear to be the shortest distance. Indeed this would be the case on a flat plane; however, for spherical-like objects like the Earth, Geodesic lines are shorter. Argovis indexes its coordinates on a sphere, thus takes spherical geometry when making spatial selections. Not only does this allow a more accurate representation of how a shape on a map behaves, but it also allows us to query profiles that fall in shapes that cross the antimeridian.\n",
    "\n",
    "We can see an example of a shape in the yellow region below."
   ]
  },
  {
   "cell_type": "code",
   "execution_count": null,
   "metadata": {},
   "outputs": [],
   "source": [
    "shape = [[[168.6,21.7],[168.6,37.7],[-145.9,37.7],[-145.9,21.7],[168.6,21.7]]]\n",
    "lat_corners = np.array([lnglat[1] for lnglat in shape[0]])\n",
    "lon_corners = np.array([lnglat[0] for lnglat in shape[0]])\n",
    "poly_corners = np.zeros((len(lat_corners), 2), np.float64)\n",
    "poly_corners[:,0] = lon_corners[::-1]\n",
    "poly_corners[:,1] = lat_corners[::-1]\n",
    "delta = 5\n",
    "poly = mpatches.Polygon(poly_corners, closed=True, ec='r', fill=True, lw=1, fc=\"yellow\", transform=ccrs.Geodetic())\n",
    "central_longitude = -180\n",
    "map_proj = ccrs.PlateCarree(central_longitude=central_longitude)\n",
    "map_proj._threshold /= 100.  # the default values is bad, users need to set them manually\n",
    "\n",
    "ax = plt.subplot(1, 1, 1, projection=map_proj)\n",
    "#ax.set_global()\n",
    "ax.add_patch(poly)\n",
    "ax.gridlines()\n",
    "ax.coastlines()\n",
    "ax.set_ylim(lat_corners.min() - delta, lat_corners.max() + delta)\n",
    "xrange = [lon_corners.min() - delta, lon_corners.max() + delta]\n",
    "ax.set_xlim(-20, 40)\n",
    "plt.show()"
   ]
  },
  {
   "cell_type": "markdown",
   "metadata": {},
   "source": [
    "We should expect profiles made using the function `get_selection_profiles()` to fall within this region."
   ]
  },
  {
   "cell_type": "code",
   "execution_count": null,
   "metadata": {},
   "outputs": [],
   "source": [
    "def get_selection_profiles(startDate, endDate, shape, presRange=None, printUrl=True):\n",
    "    url = 'https://argovis.colorado.edu/selection/profiles'\n",
    "    url += '?startDate={}'.format(startDate)\n",
    "    url += '&endDate={}'.format(endDate)\n",
    "    url += '&shape={}'.format(shape)\n",
    "    if presRange:\n",
    "        pressRangeQuery = '&presRange=' + presRange\n",
    "        url += pressRangeQuery\n",
    "    if printUrl:\n",
    "        print(url)\n",
    "    resp = requests.get(url)\n",
    "    # Consider any status other than 2xx an error\n",
    "    if not resp.status_code // 100 == 2:\n",
    "        return \"Error: Unexpected response {}\".format(resp)\n",
    "    selectionProfiles = resp.json()\n",
    "    return selectionProfiles"
   ]
  },
  {
   "cell_type": "code",
   "execution_count": null,
   "metadata": {},
   "outputs": [],
   "source": [
    "startDate='2017-9-15'\n",
    "endDate='2017-9-30'\n",
    "strShape = str(shape).replace(' ', '')\n",
    "presRange='[0,50]'\n",
    "selectionProfiles = get_selection_profiles(startDate, endDate, strShape, presRange)\n",
    "selectionProfiles_raw = selectionProfiles\n",
    "if len(selectionProfiles) > 0:\n",
    "    selectionDf = parse_into_df(selectionProfiles)\n",
    "selectionDf.replace(-999, np.nan, inplace=True)"
   ]
  },
  {
   "cell_type": "markdown",
   "metadata": {},
   "source": [
    "As we did with the platform page, we interpolate the profiles to a pressure level of interest and plot the values."
   ]
  },
  {
   "cell_type": "code",
   "execution_count": null,
   "metadata": {},
   "outputs": [],
   "source": [
    "selectionDf_plev = parse_into_df_plev(selectionProfiles_raw, plevIntp)\n",
    "selectionDf_plev.head()"
   ]
  },
  {
   "cell_type": "code",
   "execution_count": null,
   "metadata": {},
   "outputs": [],
   "source": [
    "pmeshfig = plot_pmesh(selectionDf_plev,'temp', (8, 8), .5, 10, 10, map_proj, [-20, 40])\n",
    "ax = pmeshfig.get_axes()[0]\n",
    "poly = mpatches.Polygon(poly_corners, closed=True, ec='r', fill=False, lw=1, transform=ccrs.Geodetic())\n",
    "ax.add_patch(poly)\n",
    "plt.show()"
   ]
  },
  {
   "cell_type": "markdown",
   "metadata": {},
   "source": [
    "<a name=\"section_three_two\"/> </a>\n",
    "## 3.2 Metadata selection for month and year\n",
    "\n",
    "For profile metadata, data can be accessed quickly with the following API."
   ]
  },
  {
   "cell_type": "code",
   "execution_count": null,
   "metadata": {},
   "outputs": [],
   "source": [
    "def get_monthly_profile_pos(month, year):\n",
    "    url = 'https://argovis.colorado.edu/selection/profiles'\n",
    "    url += '/{0}/{1}'.format(month, year)\n",
    "    resp = requests.get(url)\n",
    "    if not resp.status_code // 100 == 2:\n",
    "        return \"Error: Unexpected response {}\".format(resp)\n",
    "    monthlyProfilePos = resp.json()\n",
    "    return monthlyProfilePos\n",
    "\n",
    "month = 1 # January\n",
    "year = 2019 # Year 2019\n",
    "monthlyProfilePos = get_monthly_profile_pos(month, year)\n",
    "monthlyDf = pd.DataFrame(monthlyProfilePos)"
   ]
  },
  {
   "cell_type": "code",
   "execution_count": null,
   "metadata": {},
   "outputs": [],
   "source": [
    "monthlyDf[['_id', 'date', 'POSITIONING_SYSTEM', 'DATA_MODE', \\\n",
    "           'dac', 'PLATFORM_TYPE', 'lat', 'lon']].head()"
   ]
  },
  {
   "cell_type": "markdown",
   "metadata": {},
   "source": [
    "### Gathering metadata globally in a period of interest\n",
    "\n",
    "We can loop over months, saving the results as CSV files."
   ]
  },
  {
   "cell_type": "code",
   "execution_count": null,
   "metadata": {},
   "outputs": [],
   "source": [
    "def progress_ind(idx, maxIdx):\n",
    "    print('{} percent complete'.format(100*round(idx/maxIdx, 3)), end='\\r')\n",
    "\n",
    "def make_grouped_meta_data(dataDir, dateRange):\n",
    "    profTimeSeries = []\n",
    "    typeTimeSeries = []\n",
    "    psTimeSeries = []\n",
    "    dacTimeSeries = []\n",
    "    maxIdx = len(dateRange)\n",
    "    for idx, date in enumerate(dateRange):\n",
    "        progress_ind(idx, maxIdx)\n",
    "        month = date.to_pydatetime().month\n",
    "        year = date.to_pydatetime().year\n",
    "        monthlyProfilePos = get_monthly_profile_pos(month, year)\n",
    "        monthlyDf = pd.DataFrame(monthlyProfilePos)\n",
    "        monthDict = {'date': date, 'nProf': len(monthlyProfilePos)}\n",
    "\n",
    "        allDict = {}\n",
    "        allDict.update(monthDict)\n",
    "\n",
    "        platformType = monthlyDf.groupby('PLATFORM_TYPE')['_id'].count().to_dict()\n",
    "        platformType.update(monthDict)\n",
    "        typeTimeSeries.append(platformType)\n",
    "        allDict.update(platformType)\n",
    "\n",
    "        ps = monthlyDf.groupby('POSITIONING_SYSTEM')['_id'].count().to_dict()\n",
    "        ps.update(monthDict)\n",
    "        psTimeSeries.append(ps)\n",
    "        allDict.update(ps)\n",
    "\n",
    "        dac = monthlyDf.groupby('dac')['_id'].count().to_dict()\n",
    "        dac.update(monthDict)\n",
    "        dacTimeSeries.append(dac)\n",
    "        allDict.update(dac)\n",
    "\n",
    "        profTimeSeries.append(allDict)\n",
    "    progress_ind(maxIdx, maxIdx)\n",
    "    save_metadata_time_series(dataDir, 'groupedProfileTimeSeries.csv', profTimeSeries)\n",
    "    save_metadata_time_series(dataDir, 'groupedProfilePositioningSystemTimeSeries.csv', psTimeSeries)\n",
    "    save_metadata_time_series(dataDir, 'groupedProfileTypeTimeSeries.csv', typeTimeSeries)\n",
    "    save_metadata_time_series(dataDir, 'groupedDacTimeSeries.csv', dacTimeSeries) \n",
    "\n",
    "def save_metadata_time_series(dataDir, filename, metadataDict):\n",
    "    filename = os.path.join(dataDir, filename)\n",
    "    df = pd.DataFrame(metadataDict)\n",
    "    df.to_csv(filename, index=False)\n",
    "    \n",
    "def get_grouped_metadata(dataDir, filename):\n",
    "    df = pd.read_csv(os.path.join(dataDir,filename))\n",
    "    df['date'] = pd.to_datetime(df['date'])\n",
    "    return df"
   ]
  },
  {
   "cell_type": "code",
   "execution_count": null,
   "metadata": {},
   "outputs": [],
   "source": [
    "dateRange = pd.date_range('2015-01-01', '2016-06-01', periods=None, freq='M')\n",
    "make_grouped_meta_data(dataDir, dateRange)"
   ]
  },
  {
   "cell_type": "code",
   "execution_count": null,
   "metadata": {},
   "outputs": [],
   "source": [
    "profTimeSeriesDf = get_grouped_metadata(dataDir, 'groupedProfileTimeSeries.csv')\n",
    "psTimeSeriesDf = get_grouped_metadata(dataDir, 'groupedProfilePositioningSystemTimeSeries.csv')\n",
    "typeTimeSeriesDf = get_grouped_metadata(dataDir, 'groupedProfileTypeTimeSeries.csv')\n",
    "dacTimeSeriesDf = get_grouped_metadata(dataDir, 'groupedDacTimeSeries.csv')"
   ]
  },
  {
   "cell_type": "code",
   "execution_count": null,
   "metadata": {},
   "outputs": [],
   "source": [
    "dacTimeSeriesDf.head()"
   ]
  },
  {
   "cell_type": "markdown",
   "metadata": {},
   "source": [
    "<a name=\"section_four\"/> </a>\n",
    "# 4. Plotting metadata results\n",
    "\n",
    "Argovis's plotting capabilities are limited to what is coded in JavaScript. There are many plotting libraries out there, but in this example we can create plots on our machine, thereby allowing customization.\n",
    "\n",
    "We just made some dataframes containing profile metadata. We can plot these time series with the following function."
   ]
  },
  {
   "cell_type": "code",
   "execution_count": null,
   "metadata": {},
   "outputs": [],
   "source": [
    "def make_stack_plot(df, figsize=(6,3)):\n",
    "    dataDf = df.drop(['date', 'nProf'], axis=1)\n",
    "    fig = plt.figure(figsize=figsize)\n",
    "    axes = plt.axes()\n",
    "    axes.set_title('Number of profiles per month vs. time')\n",
    "    axes.set_ylabel('# profiles/month')\n",
    "    axes.set_xlabel('Date')\n",
    "    axes.stackplot(df['date'].values, dataDf.T, labels=dataDf.columns)\n",
    "    axes.legend(loc=2, fontsize=16)\n",
    "    return fig"
   ]
  },
  {
   "cell_type": "code",
   "execution_count": null,
   "metadata": {},
   "outputs": [],
   "source": [
    "fig = make_stack_plot(dacTimeSeriesDf, figsize=(12,5))\n",
    "axes = plt.axes()\n",
    "axes.legend(bbox_to_anchor=(1.19, 1.00), fontsize=16)"
   ]
  },
  {
   "cell_type": "markdown",
   "metadata": {},
   "source": [
    "Here we can see which DACS release profile data over time. The next plot shows which transmission system the profiles are using. I lumped GPS into Iridium. They are essentially equivalent."
   ]
  },
  {
   "cell_type": "code",
   "execution_count": null,
   "metadata": {},
   "outputs": [],
   "source": [
    "psdf=psTimeSeriesDf.copy()\n",
    "if 'IRIDIUM' in psTimeSeriesDf:\n",
    "    psdf['IRIDIUM'] = psTimeSeriesDf['GPS'] + psTimeSeriesDf['IRIDIUM']\n",
    "    psdf.drop('GPS', axis = 1, inplace=True)\n",
    "fig = make_stack_plot(psdf, figsize=(12,4))"
   ]
  },
  {
   "cell_type": "markdown",
   "metadata": {},
   "source": [
    "<a name=\"section_five\"/> </a>\n",
    "# 5. Time series for the average of the data in a region (interpolated on pressure levels of interest)\n",
    "\n",
    "We build a time series by stacking selection queries on top of each other. In this example, we average interpolated temperature data from profiles in a region of interest in monthly aggregates. We starting with January in `startYear` and ending in December of `endYear`. \n",
    "\n",
    "In other words, we are using `get_selection_profiles` from [#section_three](section 3.1). and taking the mean of all the points of a given month. Note that we ought to take a _spatially_ averaged mean if we were to put this into practice."
   ]
  },
  {
   "cell_type": "code",
   "execution_count": null,
   "metadata": {},
   "outputs": [],
   "source": [
    "def get_month_day_range(date):\n",
    "    '''gets first day and last day of the month a given month-year datetime object'''\n",
    "    first_day = date.replace(day=1)\n",
    "    last_day = date.replace(day=calendar.monthrange(date.year, date.month)[1])\n",
    "    return first_day, last_day\n",
    "\n",
    "# set region and pressure range of interest\n",
    "shape = '[[[-65,20],[-65,25],[-60,25],[-60,20],[-65,20]]]'\n",
    "presRange ='[0,50]'\n",
    "startYear = 2019\n",
    "endYear = 2020"
   ]
  },
  {
   "cell_type": "code",
   "execution_count": null,
   "metadata": {},
   "outputs": [],
   "source": [
    "def time_series(shape, presRange, startYear=2019, endYear=2020, plevIntp=(20)):\n",
    "    tempMean = []\n",
    "    times = []\n",
    "    yearRange = range(startYear,endYear+1)\n",
    "    maxYdx = len(yearRange)\n",
    "    for ydx, yy in enumerate(yearRange):\n",
    "        progress_ind(ydx, maxYdx)\n",
    "        monthRange = range(1,13)\n",
    "        for mm in monthRange:\n",
    "            times.append(datetime(yy, mm, 15))\n",
    "            [startDate, endDate] = get_month_day_range(datetime(yy, mm, 15))\n",
    "            profiles = get_selection_profiles(startDate, endDate, shape, presRange, printUrl=False)\n",
    "            #pdb.set_trace()\n",
    "            if len(profiles) > 0:\n",
    "                df = parse_into_df_plev(profiles, plevIntp)\n",
    "                df = df.dropna(subset=['temp'])\n",
    "                mean = df['temp'].mean()\n",
    "                tempMean.append(mean)\n",
    "            else:\n",
    "                tempMean.append(np.nan)\n",
    "    progress_ind(maxYdx, maxYdx)\n",
    "    return tempMean, times\n",
    "\n",
    "tempMean, times = time_series(shape, presRange, startYear, endYear, plevIntp)"
   ]
  },
  {
   "cell_type": "markdown",
   "metadata": {},
   "source": [
    "Once again, we save our output to a csv."
   ]
  },
  {
   "cell_type": "code",
   "execution_count": null,
   "metadata": {},
   "outputs": [],
   "source": [
    "filename = os.path.join(dataDir, 'time_series.csv')\n",
    "strTimes = [datetime.strftime(t, '%Y-%m-%d') for t in times]\n",
    "with open(filename, 'w') as myfile:\n",
    "    wr = csv.writer(myfile, quoting=csv.QUOTE_ALL)\n",
    "    wr.writerow(('date', 'tempMean'))\n",
    "    wr.writerows(zip(strTimes, tempMean))"
   ]
  },
  {
   "cell_type": "code",
   "execution_count": null,
   "metadata": {},
   "outputs": [],
   "source": [
    "tsdf = pd.read_csv(filename)\n",
    "tsdf['date'] = tsdf['date'].apply(lambda t: datetime.strptime(t, '%Y-%m-%d'))"
   ]
  },
  {
   "cell_type": "code",
   "execution_count": null,
   "metadata": {},
   "outputs": [],
   "source": [
    "fig = plt.figure(999, figsize=(15,3))\n",
    "ax = plt.axes()\n",
    "ax.plot(tsdf['date'], tsdf['tempMean'])\n",
    "ax.set_title('Monthly average for a region and pressure \\n level of intrest (average of all available profiles)')\n",
    "ax.set_ylabel('$T\\ [degC]$')\n",
    "ax.set_xlabel('date')"
   ]
  },
  {
   "cell_type": "markdown",
   "metadata": {},
   "source": [
    "Large aggregations such as those seen in this section require multiple queries. The database that stores profiles can at most return 16MB for one query. Users attempting to query over too large an area or time range will receive an error message instead of the expected JSON. Hence, we segmented the routine in a loop, where each month/year is queried at one time. \n",
    "\n",
    "<a name=\"section_six\"/> </a>\n",
    "# 6. Query globally within thin slice of pressure\n",
    "\n",
    "In this section, we query all the data globally within a very short time and for a pressure range of interest. How small a query? Consider the following guidelines:\n",
    "- Pressure range is no more than 50 dbar\n",
    "- The date range is no more than 3 days\n",
    "This will ensure that JSON is returned instead of an unexpected error message.\n",
    "\n",
    "We then interpolate each profile to a pressure level of interest and plot the temperature using our `plot_pmesh()` function back from [section 2](#section_two)."
   ]
  },
  {
   "cell_type": "code",
   "execution_count": null,
   "metadata": {},
   "outputs": [],
   "source": [
    "def get_ocean_slice(startDate, endDate, presRange='[5,15]'):\n",
    "    '''\n",
    "    query horizontal slice of ocean for a specified time range\n",
    "    startDate and endDate should be a string formated like so: 'YYYY-MM-DD'\n",
    "    presRange should comprise of a string formatted to be: '[lowPres,highPres]'\n",
    "    Try to make the query small enough so as to not pass the 16 MB limit set by the database.\n",
    "    '''\n",
    "    baseURL = 'https://argovis.colorado.edu/gridding/presSlice/'\n",
    "    startDateQuery = '?startDate=' + startDate\n",
    "    endDateQuery = '&endDate=' + endDate\n",
    "    presRangeQuery = '&presRange=' + presRange\n",
    "    url = baseURL + startDateQuery + endDateQuery + presRangeQuery\n",
    "    resp = requests.get(url)\n",
    "    # Consider any status other than 2xx an error\n",
    "    if not resp.status_code // 100 == 2:\n",
    "        return \"Error: Unexpected response {}\".format(resp)\n",
    "    profiles = resp.json()\n",
    "    return profiles"
   ]
  },
  {
   "cell_type": "code",
   "execution_count": null,
   "metadata": {},
   "outputs": [],
   "source": [
    "presRange = '[0, 50]' #  used to query database\n",
    "date = datetime(2010, 1, 1, 0, 0, 0) # this date will be used later for ARs\n",
    "startDate='2010-1-1'\n",
    "endDate='2010-1-2'\n",
    "sliceProfiles = get_ocean_slice(startDate, endDate, presRange)\n",
    "sliceDf = parse_into_df_plev(sliceProfiles, plevIntp)\n",
    "sliceDf.head()"
   ]
  },
  {
   "cell_type": "code",
   "execution_count": null,
   "metadata": {},
   "outputs": [],
   "source": [
    "pmeshfig = plot_pmesh(sliceDf,'temp')\n",
    "plt.show()"
   ]
  },
  {
   "cell_type": "markdown",
   "metadata": {},
   "source": [
    "Taking a step back, we can see several possibilities of using this API such as:\n",
    "- Generate a global/regional daily state of the ocean, generated with a simple function call. \n",
    "- Track a single platform throughout its history. \n",
    "- Make historical time series for a region.\n",
    "\n",
    "In addition to these items, Argovis is a tool for incorporating other data sets. A recent interest of Argovis is to include data other than Argo, I.E. hurricane track data, or satellite data. Even data generated from computer simulation or statistical mapping can be compared to argo profiles.\n",
    "\n",
    "While still in its infancy, we have added some tools and features in the form of modules that explore the interaction between different data. One such module is mentioned in the next section. \n",
    "\n",
    "<a name=\"section_seven\"/> </a>\n",
    "# 7. Overlay Atmospheric Rivers on the map\n",
    "\n",
    "Atmospheric rivers (AR) are bodies of moisture in the atmosphere. They are responsible for localized heavy rainfall such as the Pineapple express on the west coast of North America. Argovis has recently included an AR data set taken from by [Guan and Walister](https://agupubs.onlinelibrary.wiley.com/doi/full/10.1002/2015JD024257). The dataset is comprised of shapes representing atmospheric rivers at a given time. Argovis charts these shapes and uses them to query for profiles. The module is located [Here](https://argovis.colorado.edu/ng/ar).\n",
    "\n",
    "The following code shall query atmospheric rivers, and co-locate them with argo profiles."
   ]
  },
  {
   "cell_type": "code",
   "execution_count": null,
   "metadata": {},
   "outputs": [],
   "source": [
    "def get_ar_by_date(date):\n",
    "    url = \"https://argovis.colorado.edu/arShapes/findByDate?date=\"\n",
    "    url += date\n",
    "    resp = requests.get(url)\n",
    "    if not resp.status_code // 100 == 2:\n",
    "        return \"Error: Unexpected response {}\".format(resp)\n",
    "    ars = resp.json()\n",
    "    return ars\n",
    "\n",
    "def format_ars(ars):\n",
    "    for ar in ars:\n",
    "        coords = ar['geoLocation']['coordinates']\n",
    "        del ar['geoLocation']\n",
    "        longs, lats = list(zip(*coords))\n",
    "        ar['coords'] = coords\n",
    "        ar['longs'] = list(longs)\n",
    "        ar['lats'] = list(lats)\n",
    "    return ars\n",
    "\n",
    "format_date_api = lambda date: datetime.strftime(date, \"%Y-%m-%dT%H:%M:%SZ\")\n",
    "stringify_array = lambda arr: str(arr).replace(' ', '')"
   ]
  },
  {
   "cell_type": "code",
   "execution_count": null,
   "metadata": {},
   "outputs": [],
   "source": [
    "dateStr = format_date_api(date)\n",
    "ars = get_ar_by_date(dateStr)\n",
    "ars = format_ars(ars)\n",
    "arDf = pd.DataFrame(ars)"
   ]
  },
  {
   "cell_type": "code",
   "execution_count": null,
   "metadata": {},
   "outputs": [],
   "source": [
    "presRange='[0,30]'\n",
    "startDate = format_date_api(date - timedelta(days=3))\n",
    "endDate = format_date_api(date + timedelta(days=3))\n",
    "ar = arDf.iloc[2]\n",
    "coords = list(zip(ar.longs,ar.lats))\n",
    "coords = [list(elem) for elem in coords]\n",
    "shape = stringify_array([coords])"
   ]
  },
  {
   "cell_type": "markdown",
   "metadata": {},
   "source": [
    "The following chart takes one AR shape queried from Argovis and plots it with our slice query from [section six](#section_six)"
   ]
  },
  {
   "cell_type": "code",
   "execution_count": null,
   "metadata": {},
   "outputs": [],
   "source": [
    "def plot_ar_over_profile_map(df,var,ar):\n",
    "    fig = plt.figure(figsize=(8,12))\n",
    "    x = df['lon'].values\n",
    "    y = df['lat'].values\n",
    "    z = df[var].values\n",
    "    ax = plt.axes(projection=ccrs.PlateCarree())\n",
    "    \n",
    "    plt.title(var)\n",
    "\n",
    "    ax.coastlines(zorder=1)\n",
    "    \n",
    "    ax.coastlines(zorder=1)\n",
    "    sct = plt.scatter(x, y, c=z,s=15, cmap=cmocean.cm.dense,zorder=0)\n",
    "    cbar = fig.colorbar(sct, cmap=cmocean.cm.dense, shrink=.25)\n",
    "\n",
    "    ARy, ARx = ar.lats, ar.longs\n",
    "    plt.scatter(ARx,ARy,marker='o',c='r',s=5)\n",
    "    \n",
    "    ax.set_ylabel('latitude')\n",
    "    ax.set_xlabel('longitude')\n",
    "    \n",
    "    return fig\n",
    "\n",
    "plot_ar_over_profile_map(sliceDf,'temp',ar)\n",
    "plt.show()"
   ]
  },
  {
   "cell_type": "markdown",
   "metadata": {},
   "source": [
    "Going even further, we can take AR shapes and make profile selections with them."
   ]
  },
  {
   "cell_type": "code",
   "execution_count": null,
   "metadata": {},
   "outputs": [],
   "source": [
    "profiles = get_selection_profiles(startDate, endDate, shape, presRange)\n",
    "profileDf = parse_into_df(profiles)\n",
    "pdf = profileDf.drop_duplicates(subset='profile_id')\n",
    "pdf.head()"
   ]
  },
  {
   "cell_type": "code",
   "execution_count": null,
   "metadata": {},
   "outputs": [],
   "source": [
    "\n",
    "central_longitude = -180\n",
    "map_proj = ccrs.PlateCarree(central_longitude=central_longitude)\n",
    "map_proj._threshold /= 100.  # the default values is bad, users need to set them manually\n",
    "\n",
    "ax = plt.subplot(1, 1, 1, projection=map_proj)\n",
    "#ax.set_global()\n",
    "ax.add_patch(poly)\n",
    "ax.gridlines()\n",
    "ax.coastlines()\n",
    "ax.set_ylim(lat_corners.min() - delta, lat_corners.max() + delta)\n",
    "xrange = [lon_corners.min() - delta, lon_corners.max() + delta]\n",
    "ax.set_xlim(-20, 40)\n",
    "plt.show()\n",
    "\n",
    "def plot_profiles_and_ar(pdf, ar, central_longitude=-180):\n",
    "    map_proj = ccrs.PlateCarree(central_longitude=central_longitude)\n",
    "    map_proj._threshold /= 100.  # the default values is bad, users need to set them manually\n",
    "    fig = plt.figure()\n",
    "    ax = plt.axes(projection=map_proj, xlabel='longitude', ylabel='latitude')\n",
    "    py, px = pdf.lat.values, pdf.lon.values\n",
    "    ay, ax = ar.lats, ar.longs\n",
    "    axes.scatter(px,py,marker='o',c='b',s=25)\n",
    "    axes.scatter(ax,ay,marker='o',c='r',s=25)\n",
    "    axes.set_title('AR shape with Argo profiles')\n",
    "    axes.legend(['profiles', 'ar shape'])\n",
    "    return fig\n",
    "\n",
    "fig1 = plot_profiles_and_ar(pdf, ar)"
   ]
  },
  {
   "cell_type": "markdown",
   "metadata": {},
   "source": [
    "As of the writing of this notebook, our only external data remains the [Guan-Walister](https://agupubs.onlinelibrary.wiley.com/doi/full/10.1002/2015JD024257) AR dataset. In time we intend to include tropical cyclone data and hurricane shapes which will be co-located in a similar fashion to the methods shown by this AR API.\n",
    "\n",
    "# Conclusion\n",
    "\n",
    "We hope that you found these API functions usefull. Argovis itself uses them on its front-end interface. At its core, its API is a series of `get` requests that can be written in a number or languages, such as R, Matlab. Some Matlab scripts are provided [here](http://www.argo.ucsd.edu/Argovis/Argovis_Tutorials.html). \n",
    "\n",
    "This project is still new, and will continue to evolve and improve. Feel free to email tyler.tucker@colorado.edu for questions/requests. Thanks!"
   ]
  }
 ],
 "metadata": {
  "anaconda-cloud": {},
  "kernelspec": {
   "display_name": "Python 3.6.1 64-bit ('argo': conda)",
   "language": "python",
   "name": "python36164bitargoconda2557ead2804642aaa5402513ccf4ba2e"
  },
  "language_info": {
   "codemirror_mode": {
    "name": "ipython",
    "version": 3
   },
   "file_extension": ".py",
   "mimetype": "text/x-python",
   "name": "python",
   "nbconvert_exporter": "python",
   "pygments_lexer": "ipython3",
   "version": "3.6.1"
  }
 },
 "nbformat": 4,
 "nbformat_minor": 4
}
